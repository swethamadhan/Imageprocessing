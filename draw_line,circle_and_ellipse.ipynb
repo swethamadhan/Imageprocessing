{
  "nbformat": 4,
  "nbformat_minor": 0,
  "metadata": {
    "colab": {
      "provenance": []
    },
    "kernelspec": {
      "name": "python3",
      "display_name": "Python 3"
    },
    "language_info": {
      "name": "python"
    }
  },
  "cells": [
    {
      "cell_type": "code",
      "source": [
        "#program to draw lines"
      ],
      "metadata": {
        "id": "cyFx9IY_-38N"
      },
      "execution_count": 1,
      "outputs": []
    },
    {
      "cell_type": "code",
      "execution_count": 2,
      "metadata": {
        "id": "xxSUNsu6-t4g"
      },
      "outputs": [],
      "source": [
        "import numpy as np\n",
        "import cv2\n",
        "from google.colab.patches import cv2_imshow"
      ]
    },
    {
      "cell_type": "code",
      "source": [
        "#define a canvas of size 300x300 px, with 3 channels (R,G,B) and data type as 8 bit unsigned integer\n",
        "canvas = np.zeros((300,300,3), dtype =\"uint8\")"
      ],
      "metadata": {
        "id": "WORW1ViA-5Qf"
      },
      "execution_count": 3,
      "outputs": []
    },
    {
      "cell_type": "code",
      "source": [
        "# draw line with width\n",
        "red = (0,0,255)\n",
        "cv2.line(canvas,(0,0),(300,300),red, 3)\n",
        "cv2_imshow(canvas)\n",
        "cv2.waitKey(0)"
      ],
      "metadata": {
        "colab": {
          "base_uri": "https://localhost:8080/",
          "height": 334
        },
        "id": "MRIazESw_D39",
        "outputId": "effb3650-1a58-48c8-d49b-5736f3b5f81a"
      },
      "execution_count": 4,
      "outputs": [
        {
          "output_type": "display_data",
          "data": {
            "text/plain": [
              "<PIL.Image.Image image mode=RGB size=300x300 at 0x7F9D230D7AC0>"
            ],
            "image/png": "[encoded data removed]"
          },
          "metadata": {}
        },
        {
          "output_type": "execute_result",
          "data": {
            "text/plain": [
              "-1"
            ]
          },
          "metadata": {},
          "execution_count": 4
        }
      ]
    },
    {
      "cell_type": "code",
      "source": [
        "#program to draw a circle"
      ],
      "metadata": {
        "id": "L6Auvqsm_UrY"
      },
      "execution_count": 5,
      "outputs": []
    },
    {
      "cell_type": "code",
      "source": [
        "import numpy as np\n",
        "import cv2\n",
        "\n",
        "#define a canvas of size 300x300 px, with 3 channels (R,G,B) and data type as 8 bit unsigned integer\n",
        "canvas = np.zeros((300,300,3), dtype =\"uint8\")\n",
        "\n",
        "#define color\n",
        "#draw a circle\n",
        "#arguments are canvas/image, midpoint, radius, color, thickness(optional)\n",
        "#display in cv2 window\n",
        "green = (0,255,0)\n",
        "cv2.circle(canvas,(100,100), 30, green,6)\n",
        "cv2_imshow(canvas)\n",
        "cv2.waitKey(0)\n"
      ],
      "metadata": {
        "colab": {
          "base_uri": "https://localhost:8080/",
          "height": 334
        },
        "id": "1IIGYOK__4OT",
        "outputId": "c956faef-468e-4711-aa6d-7385b69430d3"
      },
      "execution_count": 6,
      "outputs": [
        {
          "output_type": "display_data",
          "data": {
            "text/plain": [
              "<PIL.Image.Image image mode=RGB size=300x300 at 0x7F9D1709A5B0>"
            ],
            "image/png": "[encoded data removed]"
          },
          "metadata": {}
        },
        {
          "output_type": "execute_result",
          "data": {
            "text/plain": [
              "-1"
            ]
          },
          "metadata": {},
          "execution_count": 6
        }
      ]
    },
    {
      "cell_type": "code",
      "source": [
        "# draw concentric white circles\n",
        "# calculate the center point of canvas\n",
        "# generate circles using for loop\n",
        "# clearning the canvas\n",
        "canvas = np.zeros((300,300,3), dtype =\"uint8\")\n",
        "white = (255,255,255)\n",
        "(centerX, centerY) = (canvas.shape[1]//2, canvas.shape[0]//2)\n",
        "\n",
        "for r in range(0,175,25):\n",
        "    cv2.circle(canvas, (centerX,centerY), r, white,4)\n",
        "\n",
        "cv2_imshow(canvas)\n",
        "cv2.waitKey(0)"
      ],
      "metadata": {
        "colab": {
          "base_uri": "https://localhost:8080/",
          "height": 334
        },
        "id": "BMxsEYl-ACJd",
        "outputId": "7db271c5-4ef0-47f4-8d21-91abbc2cd35e"
      },
      "execution_count": 7,
      "outputs": [
        {
          "output_type": "display_data",
          "data": {
            "text/plain": [
              "<PIL.Image.Image image mode=RGB size=300x300 at 0x7F9D1709A490>"
            ],
            "image/png": "[encoded data removed]"
          },
          "metadata": {}
        },
        {
          "output_type": "execute_result",
          "data": {
            "text/plain": [
              "-1"
            ]
          },
          "metadata": {},
          "execution_count": 7
        }
      ]
    },
    {
      "cell_type": "code",
      "source": [
        "# generate random radius, center point, color\n",
        "# draw circles in for loop\n",
        "canvas = np.zeros((300,300,3), dtype =\"uint8\")\n",
        "for i in range(0, 25):\n",
        "    radius = np.random.randint(5, high = 200)\n",
        "    color = np.random.randint(0, high = 256, size = (3,)).tolist()\n",
        "    pt = np.random.randint(0, high = 300, size = (2,))\n",
        "    cv2.circle(canvas, tuple(pt), radius, color, -1)\n",
        "cv2_imshow(canvas)\n",
        "cv2.waitKey(0)"
      ],
      "metadata": {
        "colab": {
          "base_uri": "https://localhost:8080/",
          "height": 334
        },
        "id": "0PCixtAsAXEe",
        "outputId": "4c9670ea-0901-454c-8248-26e16a5d9e5e"
      },
      "execution_count": 8,
      "outputs": [
        {
          "output_type": "display_data",
          "data": {
            "text/plain": [
              "<PIL.Image.Image image mode=RGB size=300x300 at 0x7F9D1710AFD0>"
            ],
            "image/png": "[encoded data removed]"
          },
          "metadata": {}
        },
        {
          "output_type": "execute_result",
          "data": {
            "text/plain": [
              "-1"
            ]
          },
          "metadata": {},
          "execution_count": 8
        }
      ]
    },
    {
      "cell_type": "code",
      "source": [
        "#program to draw ellipse"
      ],
      "metadata": {
        "id": "-o7RToGJAdjF"
      },
      "execution_count": 9,
      "outputs": []
    },
    {
      "cell_type": "code",
      "source": [
        "import cv2\n",
        "\n",
        "# Create a blank image\n",
        "img = np.zeros((512, 512, 3), np.uint8)\n",
        "\n",
        "# Center coordinates of ellipse\n",
        "center = (256, 256)\n",
        "\n",
        "# axes lengths of the ellipse\n",
        "axes = (100, 50)\n",
        "\n",
        "# angle of rotation of the ellipse\n",
        "angle = 0\n",
        "\n",
        "# start and end angles of the ellipse\n",
        "start_angle = 0\n",
        "end_angle = 360\n",
        "\n",
        "# color of the ellipse\n",
        "color = (255, 0, 0)\n",
        "\n",
        "# thickness of the ellipse\n",
        "thickness = 2\n",
        "\n",
        "# Draw the ellipse\n",
        "cv2.ellipse(img, center, axes, angle, start_angle, end_angle, color, thickness)\n",
        "\n",
        "# Show the image\n",
        "cv2_imshow( img)\n",
        "cv2.waitKey(0)\n",
        "cv2.destroyAllWindows()\n"
      ],
      "metadata": {
        "colab": {
          "base_uri": "https://localhost:8080/",
          "height": 529
        },
        "id": "7O9IJqL9Bdk4",
        "outputId": "03c07c8e-67f0-4278-d99d-99b2b4dbe48b"
      },
      "execution_count": 10,
      "outputs": [
        {
          "output_type": "display_data",
          "data": {
            "text/plain": [
              "<PIL.Image.Image image mode=RGB size=512x512 at 0x7F9D1709AD00>"
            ],
            "image/png": "[encoded data removed]"
          },
          "metadata": {}
        }
      ]
    }
  ]
}